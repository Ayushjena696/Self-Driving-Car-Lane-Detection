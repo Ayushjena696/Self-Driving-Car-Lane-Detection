{
 "cells": [
  {
   "cell_type": "code",
   "execution_count": 24,
   "metadata": {},
   "outputs": [],
   "source": [
    "import numpy as np\n",
    "import matplotlib.pyplot as plt\n",
    "from sklearn import datasets \n",
    "import keras \n",
    "from keras.models import Sequential \n",
    "from keras.layers import Dense \n",
    "from keras.optimizers import Adam\n",
    "from keras.utils.np_utils import to_categorical"
   ]
  },
  {
   "cell_type": "code",
   "execution_count": 25,
   "metadata": {},
   "outputs": [],
   "source": [
    "n_pts = 500\n",
    "centers = [[-1, 1], [-1, -1], [1, -1],[1, 1],[0, 0]]\n",
    "X, y = datasets.make_blobs(n_samples=n_pts, random_state=123, centers=centers, cluster_std = 0.4)"
   ]
  },
  {
   "cell_type": "code",
   "execution_count": 30,
   "metadata": {},
   "outputs": [
    {
     "data": {
      "text/plain": [
       "<matplotlib.collections.PathCollection at 0x1a591c4c948>"
      ]
     },
     "execution_count": 30,
     "metadata": {},
     "output_type": "execute_result"
    },
    {
     "data": {
      "image/png": "[encoded data removed]",
      "text/plain": [
       "<Figure size 432x288 with 1 Axes>"
      ]
     },
     "metadata": {
      "needs_background": "light"
     },
     "output_type": "display_data"
    }
   ],
   "source": [
    "plt.scatter(X[y==0, 0], X[y==0, 1])\n",
    "plt.scatter(X[y==1, 0], X[y==1, 1])\n",
    "plt.scatter(X[y==2, 0], X[y==2, 1])\n",
    "plt.scatter(X[y==3, 0], X[y==3, 1])\n",
    "plt.scatter(X[y==4, 0], X[y==4, 1])"
   ]
  },
  {
   "cell_type": "code",
   "execution_count": 27,
   "metadata": {},
   "outputs": [
    {
     "name": "stdout",
     "output_type": "stream",
     "text": [
      "[3 3 4 0 2 1 1 4 4 4 3 2 1 0 2 4 4 4 3 0 3 0 3 4 1 3 1 0 4 2 3 1 0 4 1 0 4\n",
      " 0 4 0 1 3 3 0 3 1 3 4 0 4 0 2 3 0 2 4 4 0 3 4 1 3 0 4 2 1 1 2 3 2 3 2 1 1\n",
      " 3 2 4 2 2 3 0 2 4 3 2 1 3 3 3 3 1 1 4 2 4 4 1 2 4 1 4 2 2 3 4 1 1 3 3 2 1\n",
      " 3 1 0 1 0 4 4 4 3 1 3 3 3 1 4 4 0 2 0 1 1 0 4 0 1 1 4 4 0 4 3 4 4 2 4 0 0\n",
      " 0 4 2 0 4 1 0 2 2 1 3 0 1 2 2 4 4 1 3 2 3 3 3 2 2 2 4 0 1 1 0 1 4 4 3 2 3\n",
      " 2 3 1 0 3 4 2 1 0 0 0 4 3 0 4 2 2 3 1 0 4 4 1 2 1 3 1 4 4 0 1 4 2 4 0 4 0\n",
      " 1 2 3 0 1 0 3 3 4 3 4 0 0 1 1 3 0 4 1 4 2 1 2 4 4 3 3 1 1 1 4 1 1 1 4 3 1\n",
      " 0 0 2 2 2 3 2 3 4 2 3 3 1 1 0 4 0 3 0 0 0 3 2 2 1 4 2 0 0 2 2 1 3 3 1 3 0\n",
      " 0 1 4 2 2 2 1 0 0 1 0 0 1 2 4 2 4 2 1 3 0 0 1 4 1 2 4 4 4 3 4 1 2 3 1 3 1\n",
      " 0 0 2 4 1 3 1 1 2 1 4 3 1 2 3 2 0 4 1 4 0 2 2 0 1 2 2 4 4 0 4 1 3 3 2 2 0\n",
      " 4 3 3 1 2 2 4 3 0 3 3 3 3 0 1 4 4 4 0 3 3 2 4 0 4 0 0 4 2 2 2 3 0 2 0 0 1\n",
      " 2 3 0 0 2 4 2 3 0 3 0 1 0 4 1 0 0 1 3 1 4 0 2 1 1 3 2 3 2 2 2 3 1 0 0 0 1\n",
      " 3 4 2 1 0 2 1 4 3 3 4 0 0 2 2 0 0 2 2 3 4 3 2 2 2 2 0 1 3 0 2 1 2 0 2 3 4\n",
      " 3 1 4 3 3 0 2 4 0 4 1 3 2 1 3 0 1 2 1]\n",
      "[[0. 0. 0. 1. 0.]\n",
      " [0. 0. 0. 1. 0.]\n",
      " [0. 0. 0. 0. 1.]\n",
      " ...\n",
      " [0. 1. 0. 0. 0.]\n",
      " [0. 0. 1. 0. 0.]\n",
      " [0. 1. 0. 0. 0.]]\n"
     ]
    }
   ],
   "source": [
    "print(y)\n",
    "y_cat = to_categorical(y, 5)\n",
    "print(y_cat)"
   ]
  },
  {
   "cell_type": "code",
   "execution_count": 31,
   "metadata": {},
   "outputs": [],
   "source": [
    "model = Sequential()\n",
    "model.add(Dense(units=5, input_shape=(2,), activation='softmax'))\n",
    "model.compile(Adam(0.1), loss = 'categorical_crossentropy', metrics=['accuracy'])"
   ]
  },
  {
   "cell_type": "code",
   "execution_count": 35,
   "metadata": {},
   "outputs": [
    {
     "name": "stdout",
     "output_type": "stream",
     "text": [
      "Epoch 1/100\n",
      "500/500 [==============================] - 0s 40us/step - loss: 0.1515 - accuracy: 0.9460\n",
      "Epoch 2/100\n",
      "500/500 [==============================] - 0s 66us/step - loss: 0.1526 - accuracy: 0.9500\n",
      "Epoch 3/100\n",
      "500/500 [==============================] - 0s 50us/step - loss: 0.1518 - accuracy: 0.9500\n",
      "Epoch 4/100\n",
      "500/500 [==============================] - 0s 34us/step - loss: 0.1521 - accuracy: 0.9480\n",
      "Epoch 5/100\n",
      "500/500 [==============================] - 0s 32us/step - loss: 0.1515 - accuracy: 0.9500\n",
      "Epoch 6/100\n",
      "500/500 [==============================] - 0s 44us/step - loss: 0.1524 - accuracy: 0.9500\n",
      "Epoch 7/100\n",
      "500/500 [==============================] - 0s 40us/step - loss: 0.1514 - accuracy: 0.9500\n",
      "Epoch 8/100\n",
      "500/500 [==============================] - 0s 68us/step - loss: 0.1507 - accuracy: 0.9520\n",
      "Epoch 9/100\n",
      "500/500 [==============================] - 0s 54us/step - loss: 0.1538 - accuracy: 0.9480\n",
      "Epoch 10/100\n",
      "500/500 [==============================] - 0s 60us/step - loss: 0.1506 - accuracy: 0.9520\n",
      "Epoch 11/100\n",
      "500/500 [==============================] - 0s 46us/step - loss: 0.1526 - accuracy: 0.9520\n",
      "Epoch 12/100\n",
      "500/500 [==============================] - 0s 52us/step - loss: 0.1506 - accuracy: 0.9520\n",
      "Epoch 13/100\n",
      "500/500 [==============================] - 0s 42us/step - loss: 0.1535 - accuracy: 0.9480\n",
      "Epoch 14/100\n",
      "500/500 [==============================] - 0s 42us/step - loss: 0.1524 - accuracy: 0.9480\n",
      "Epoch 15/100\n",
      "500/500 [==============================] - 0s 46us/step - loss: 0.1519 - accuracy: 0.9480\n",
      "Epoch 16/100\n",
      "500/500 [==============================] - 0s 40us/step - loss: 0.1512 - accuracy: 0.9520\n",
      "Epoch 17/100\n",
      "500/500 [==============================] - 0s 42us/step - loss: 0.1518 - accuracy: 0.9460\n",
      "Epoch 18/100\n",
      "500/500 [==============================] - 0s 46us/step - loss: 0.1511 - accuracy: 0.9480\n",
      "Epoch 19/100\n",
      "500/500 [==============================] - 0s 46us/step - loss: 0.1519 - accuracy: 0.9500\n",
      "Epoch 20/100\n",
      "500/500 [==============================] - 0s 48us/step - loss: 0.1516 - accuracy: 0.9520\n",
      "Epoch 21/100\n",
      "500/500 [==============================] - 0s 44us/step - loss: 0.1540 - accuracy: 0.9480\n",
      "Epoch 22/100\n",
      "500/500 [==============================] - 0s 50us/step - loss: 0.1532 - accuracy: 0.9460\n",
      "Epoch 23/100\n",
      "500/500 [==============================] - 0s 44us/step - loss: 0.1537 - accuracy: 0.9500\n",
      "Epoch 24/100\n",
      "500/500 [==============================] - 0s 44us/step - loss: 0.1517 - accuracy: 0.9500\n",
      "Epoch 25/100\n",
      "500/500 [==============================] - ETA: 0s - loss: 0.1009 - accuracy: 0.94 - 0s 44us/step - loss: 0.1516 - accuracy: 0.9480\n",
      "Epoch 26/100\n",
      "500/500 [==============================] - 0s 35us/step - loss: 0.1503 - accuracy: 0.9480\n",
      "Epoch 27/100\n",
      "500/500 [==============================] - 0s 51us/step - loss: 0.1510 - accuracy: 0.9520\n",
      "Epoch 28/100\n",
      "500/500 [==============================] - 0s 44us/step - loss: 0.1519 - accuracy: 0.9500\n",
      "Epoch 29/100\n",
      "500/500 [==============================] - 0s 46us/step - loss: 0.1524 - accuracy: 0.9520\n",
      "Epoch 30/100\n",
      "500/500 [==============================] - 0s 44us/step - loss: 0.1519 - accuracy: 0.9480\n",
      "Epoch 31/100\n",
      "500/500 [==============================] - 0s 42us/step - loss: 0.1513 - accuracy: 0.9500\n",
      "Epoch 32/100\n",
      "500/500 [==============================] - 0s 46us/step - loss: 0.1540 - accuracy: 0.9440\n",
      "Epoch 33/100\n",
      "500/500 [==============================] - 0s 50us/step - loss: 0.1507 - accuracy: 0.9500\n",
      "Epoch 34/100\n",
      "500/500 [==============================] - 0s 54us/step - loss: 0.1511 - accuracy: 0.9520\n",
      "Epoch 35/100\n",
      "500/500 [==============================] - 0s 46us/step - loss: 0.1517 - accuracy: 0.9500\n",
      "Epoch 36/100\n",
      "500/500 [==============================] - 0s 48us/step - loss: 0.1507 - accuracy: 0.9480\n",
      "Epoch 37/100\n",
      "500/500 [==============================] - 0s 44us/step - loss: 0.1510 - accuracy: 0.9500\n",
      "Epoch 38/100\n",
      "500/500 [==============================] - 0s 60us/step - loss: 0.1513 - accuracy: 0.9480\n",
      "Epoch 39/100\n",
      "500/500 [==============================] - 0s 54us/step - loss: 0.1528 - accuracy: 0.9480\n",
      "Epoch 40/100\n",
      "500/500 [==============================] - 0s 46us/step - loss: 0.1510 - accuracy: 0.9520\n",
      "Epoch 41/100\n",
      "500/500 [==============================] - 0s 50us/step - loss: 0.1525 - accuracy: 0.9460\n",
      "Epoch 42/100\n",
      "500/500 [==============================] - 0s 52us/step - loss: 0.1514 - accuracy: 0.9460\n",
      "Epoch 43/100\n",
      "500/500 [==============================] - 0s 46us/step - loss: 0.1516 - accuracy: 0.9480\n",
      "Epoch 44/100\n",
      "500/500 [==============================] - 0s 42us/step - loss: 0.1511 - accuracy: 0.9480\n",
      "Epoch 45/100\n",
      "500/500 [==============================] - 0s 52us/step - loss: 0.1535 - accuracy: 0.9500\n",
      "Epoch 46/100\n",
      "500/500 [==============================] - 0s 44us/step - loss: 0.1525 - accuracy: 0.9500\n",
      "Epoch 47/100\n",
      "500/500 [==============================] - 0s 44us/step - loss: 0.1510 - accuracy: 0.9480\n",
      "Epoch 48/100\n",
      "500/500 [==============================] - 0s 42us/step - loss: 0.1509 - accuracy: 0.9480\n",
      "Epoch 49/100\n",
      "500/500 [==============================] - 0s 42us/step - loss: 0.1525 - accuracy: 0.9480\n",
      "Epoch 50/100\n",
      "500/500 [==============================] - 0s 42us/step - loss: 0.1514 - accuracy: 0.9500\n",
      "Epoch 51/100\n",
      "500/500 [==============================] - 0s 40us/step - loss: 0.1515 - accuracy: 0.9480\n",
      "Epoch 52/100\n",
      "500/500 [==============================] - 0s 46us/step - loss: 0.1503 - accuracy: 0.9500\n",
      "Epoch 53/100\n",
      "500/500 [==============================] - 0s 48us/step - loss: 0.1524 - accuracy: 0.9460\n",
      "Epoch 54/100\n",
      "500/500 [==============================] - 0s 42us/step - loss: 0.1520 - accuracy: 0.9520\n",
      "Epoch 55/100\n",
      "500/500 [==============================] - 0s 48us/step - loss: 0.1526 - accuracy: 0.9500\n",
      "Epoch 56/100\n",
      "500/500 [==============================] - 0s 42us/step - loss: 0.1531 - accuracy: 0.9500\n",
      "Epoch 57/100\n",
      "500/500 [==============================] - 0s 38us/step - loss: 0.1508 - accuracy: 0.9520\n",
      "Epoch 58/100\n",
      "500/500 [==============================] - 0s 44us/step - loss: 0.1513 - accuracy: 0.9500\n",
      "Epoch 59/100\n",
      "500/500 [==============================] - 0s 46us/step - loss: 0.1515 - accuracy: 0.9520\n",
      "Epoch 60/100\n",
      "500/500 [==============================] - 0s 46us/step - loss: 0.1516 - accuracy: 0.9480\n",
      "Epoch 61/100\n",
      "500/500 [==============================] - 0s 44us/step - loss: 0.1510 - accuracy: 0.9500\n",
      "Epoch 62/100\n",
      "500/500 [==============================] - 0s 42us/step - loss: 0.1504 - accuracy: 0.9520\n",
      "Epoch 63/100\n",
      "500/500 [==============================] - 0s 42us/step - loss: 0.1504 - accuracy: 0.9500\n",
      "Epoch 64/100\n",
      "500/500 [==============================] - 0s 40us/step - loss: 0.1509 - accuracy: 0.9500\n",
      "Epoch 65/100\n",
      "500/500 [==============================] - 0s 42us/step - loss: 0.1521 - accuracy: 0.9520\n",
      "Epoch 66/100\n",
      "500/500 [==============================] - 0s 38us/step - loss: 0.1509 - accuracy: 0.9500\n",
      "Epoch 67/100\n",
      "500/500 [==============================] - 0s 44us/step - loss: 0.1513 - accuracy: 0.9480\n",
      "Epoch 68/100\n",
      "500/500 [==============================] - 0s 48us/step - loss: 0.1511 - accuracy: 0.9480\n",
      "Epoch 69/100\n",
      "500/500 [==============================] - 0s 48us/step - loss: 0.1510 - accuracy: 0.9540\n",
      "Epoch 70/100\n",
      "500/500 [==============================] - 0s 40us/step - loss: 0.1511 - accuracy: 0.9520\n",
      "Epoch 71/100\n",
      "500/500 [==============================] - 0s 40us/step - loss: 0.1520 - accuracy: 0.9520\n",
      "Epoch 72/100\n",
      "500/500 [==============================] - 0s 42us/step - loss: 0.1534 - accuracy: 0.9520\n",
      "Epoch 73/100\n",
      "500/500 [==============================] - 0s 42us/step - loss: 0.1513 - accuracy: 0.9480\n",
      "Epoch 74/100\n",
      "500/500 [==============================] - 0s 40us/step - loss: 0.1522 - accuracy: 0.9520\n",
      "Epoch 75/100\n",
      "500/500 [==============================] - 0s 38us/step - loss: 0.1549 - accuracy: 0.9480\n",
      "Epoch 76/100\n",
      "500/500 [==============================] - 0s 36us/step - loss: 0.1512 - accuracy: 0.9500\n",
      "Epoch 77/100\n",
      "500/500 [==============================] - 0s 40us/step - loss: 0.1535 - accuracy: 0.9520\n",
      "Epoch 78/100\n",
      "500/500 [==============================] - 0s 38us/step - loss: 0.1511 - accuracy: 0.9480\n",
      "Epoch 79/100\n",
      "500/500 [==============================] - 0s 64us/step - loss: 0.1522 - accuracy: 0.9540\n",
      "Epoch 80/100\n",
      "500/500 [==============================] - 0s 36us/step - loss: 0.1536 - accuracy: 0.9500\n",
      "Epoch 81/100\n",
      "500/500 [==============================] - 0s 38us/step - loss: 0.1513 - accuracy: 0.9460\n",
      "Epoch 82/100\n",
      "500/500 [==============================] - 0s 44us/step - loss: 0.1512 - accuracy: 0.9520\n",
      "Epoch 83/100\n",
      "500/500 [==============================] - 0s 36us/step - loss: 0.1517 - accuracy: 0.9500\n",
      "Epoch 84/100\n",
      "500/500 [==============================] - 0s 38us/step - loss: 0.1515 - accuracy: 0.9460\n",
      "Epoch 85/100\n",
      "500/500 [==============================] - 0s 40us/step - loss: 0.1514 - accuracy: 0.9540\n",
      "Epoch 86/100\n",
      "500/500 [==============================] - 0s 36us/step - loss: 0.1536 - accuracy: 0.9500\n",
      "Epoch 87/100\n",
      "500/500 [==============================] - 0s 42us/step - loss: 0.1523 - accuracy: 0.9480\n",
      "Epoch 88/100\n",
      "500/500 [==============================] - 0s 38us/step - loss: 0.1519 - accuracy: 0.9500\n",
      "Epoch 89/100\n",
      "500/500 [==============================] - 0s 44us/step - loss: 0.1521 - accuracy: 0.9500\n",
      "Epoch 90/100\n",
      "500/500 [==============================] - 0s 40us/step - loss: 0.1520 - accuracy: 0.9480\n",
      "Epoch 91/100\n",
      "500/500 [==============================] - 0s 42us/step - loss: 0.1538 - accuracy: 0.9480\n",
      "Epoch 92/100\n",
      "500/500 [==============================] - 0s 46us/step - loss: 0.1535 - accuracy: 0.9480\n",
      "Epoch 93/100\n",
      "500/500 [==============================] - 0s 36us/step - loss: 0.1503 - accuracy: 0.9480\n",
      "Epoch 94/100\n",
      "500/500 [==============================] - 0s 52us/step - loss: 0.1555 - accuracy: 0.9520\n",
      "Epoch 95/100\n",
      "500/500 [==============================] - 0s 38us/step - loss: 0.1512 - accuracy: 0.9520\n",
      "Epoch 96/100\n",
      "500/500 [==============================] - 0s 40us/step - loss: 0.1526 - accuracy: 0.9460\n",
      "Epoch 97/100\n",
      "500/500 [==============================] - 0s 46us/step - loss: 0.1509 - accuracy: 0.9520\n",
      "Epoch 98/100\n",
      "500/500 [==============================] - 0s 44us/step - loss: 0.1528 - accuracy: 0.9520\n",
      "Epoch 99/100\n",
      "500/500 [==============================] - 0s 40us/step - loss: 0.1515 - accuracy: 0.9500\n",
      "Epoch 100/100\n",
      "500/500 [==============================] - 0s 40us/step - loss: 0.1516 - accuracy: 0.9460\n"
     ]
    },
    {
     "data": {
      "text/plain": [
       "<keras.callbacks.callbacks.History at 0x1a59206fd88>"
      ]
     },
     "execution_count": 35,
     "metadata": {},
     "output_type": "execute_result"
    }
   ],
   "source": [
    "model.fit(x=X, y=y_cat, verbose=1, batch_size = 50, epochs = 100)"
   ]
  },
  {
   "cell_type": "code",
   "execution_count": 36,
   "metadata": {},
   "outputs": [],
   "source": [
    "def plot_decision_boundary(X, y_cat, model):\n",
    "    x_span = np.linspace(min(X[:,0]) - 1, max(X[:,0]) + 1)\n",
    "    y_span = np.linspace(min(X[:,1]) - 1, max(X[:,1]) + 1)\n",
    "    xx, yy = np.meshgrid(x_span, y_span)\n",
    "    xx_, yy_ = xx.ravel(), yy.ravel()\n",
    "    grid = np.c_[xx_, yy_]\n",
    "    pred_func = model.predict_classes(grid)\n",
    "    z = pred_func.reshape(xx.shape)\n",
    "    plt.contourf(xx, yy, z)"
   ]
  },
  {
   "cell_type": "code",
   "execution_count": 38,
   "metadata": {},
   "outputs": [
    {
     "data": {
      "text/plain": [
       "<matplotlib.collections.PathCollection at 0x1a59218f3c8>"
      ]
     },
     "execution_count": 38,
     "metadata": {},
     "output_type": "execute_result"
    },
    {
     "data": {
      "image/png": "[encoded data removed]",
      "text/plain": [
       "<Figure size 432x288 with 1 Axes>"
      ]
     },
     "metadata": {
      "needs_background": "light"
     },
     "output_type": "display_data"
    }
   ],
   "source": [
    "plot_decision_boundary(X, y_cat, model)\n",
    "plt.scatter(X[y==0, 0], X[y==0, 1])\n",
    "plt.scatter(X[y==1, 0], X[y==1, 1])\n",
    "plt.scatter(X[y==2, 0], X[y==2, 1])\n",
    "plt.scatter(X[y==3, 0], X[y==3, 1])\n",
    "plt.scatter(X[y==4, 0], X[y==4, 1])"
   ]
  },
  {
   "cell_type": "code",
   "execution_count": 40,
   "metadata": {},
   "outputs": [
    {
     "name": "stdout",
     "output_type": "stream",
     "text": [
      "prediction is = [3]\n"
     ]
    },
    {
     "data": {
      "image/png": "[encoded data removed]",
      "text/plain": [
       "<Figure size 432x288 with 1 Axes>"
      ]
     },
     "metadata": {
      "needs_background": "light"
     },
     "output_type": "display_data"
    }
   ],
   "source": [
    "plot_decision_boundary(X, y_cat, model)\n",
    "plt.scatter(X[y==0, 0], X[y==0, 1])\n",
    "plt.scatter(X[y==1, 0], X[y==1, 1])\n",
    "plt.scatter(X[y==2, 0], X[y==2, 1])\n",
    "plt.scatter(X[y==3, 0], X[y==3, 1])\n",
    "plt.scatter(X[y==4, 0], X[y==4, 1])\n",
    "x = 0.5\n",
    "y = 0.5\n",
    "point = np.array([[x,y]])\n",
    "prediction = model.predict_classes(point)\n",
    "plt.plot([x], [y], marker='o', markersize=10, color='red')\n",
    "print(\"prediction is =\",prediction)"
   ]
  },
  {
   "cell_type": "code",
   "execution_count": null,
   "metadata": {},
   "outputs": [],
   "source": []
  }
 ],
 "metadata": {
  "kernelspec": {
   "display_name": "Python 3",
   "language": "python",
   "name": "python3"
  },
  "language_info": {
   "codemirror_mode": {
    "name": "ipython",
    "version": 3
   },
   "file_extension": ".py",
   "mimetype": "text/x-python",
   "name": "python",
   "nbconvert_exporter": "python",
   "pygments_lexer": "ipython3",
   "version": "3.7.4"
  }
 },
 "nbformat": 4,
 "nbformat_minor": 4
}
