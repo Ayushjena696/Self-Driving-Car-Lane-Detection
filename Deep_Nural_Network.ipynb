{
 "cells": [
  {
   "cell_type": "code",
   "execution_count": 2,
   "metadata": {},
   "outputs": [
    {
     "name": "stderr",
     "output_type": "stream",
     "text": [
      "Using TensorFlow backend.\n"
     ]
    }
   ],
   "source": [
    "import numpy as np\n",
    "import matplotlib.pyplot as plt\n",
    "from sklearn import datasets\n",
    "import keras\n",
    "from keras.models import Sequential\n",
    "from keras.layers import Dense\n",
    "from keras.optimizers import Adam"
   ]
  },
  {
   "cell_type": "code",
   "execution_count": 3,
   "metadata": {},
   "outputs": [],
   "source": [
    "n_pts = 500\n",
    "X,y = datasets.make_circles(n_samples = n_pts,random_state=123 , noise = 0.1, factor = 0.2)\n",
    "#print(X)\n",
    "#print(y)"
   ]
  },
  {
   "cell_type": "code",
   "execution_count": 4,
   "metadata": {},
   "outputs": [
    {
     "data": {
      "text/plain": [
       "<matplotlib.collections.PathCollection at 0x209c835f4c8>"
      ]
     },
     "execution_count": 4,
     "metadata": {},
     "output_type": "execute_result"
    },
    {
     "data": {
      "image/png": "[encoded data removed]",
      "text/plain": [
       "<Figure size 432x288 with 1 Axes>"
      ]
     },
     "metadata": {
      "needs_background": "light"
     },
     "output_type": "display_data"
    }
   ],
   "source": [
    "plt.scatter(X[y==0, 0],X[y==0, 1])\n",
    "\n",
    "plt.scatter(X[y==1, 1],X[y==1, 0])\n"
   ]
  },
  {
   "cell_type": "code",
   "execution_count": 5,
   "metadata": {},
   "outputs": [],
   "source": [
    "model = Sequential()\n",
    "model.add(Dense(4, input_shape=(2,), activation='sigmoid'))\n",
    "model.add(Dense(1, activation='sigmoid'))\n",
    "model.compile(Adam(lr = 0.01), 'binary_crossentropy', metrics=['accuracy'])"
   ]
  },
  {
   "cell_type": "code",
   "execution_count": 6,
   "metadata": {},
   "outputs": [
    {
     "name": "stdout",
     "output_type": "stream",
     "text": [
      "Epoch 1/200\n",
      "500/500 [==============================] - 0s 611us/step - loss: 0.7033 - accuracy: 0.5760\n",
      "Epoch 2/200\n",
      "500/500 [==============================] - 0s 76us/step - loss: 0.6966 - accuracy: 0.5140\n",
      "Epoch 3/200\n",
      "500/500 [==============================] - 0s 80us/step - loss: 0.6957 - accuracy: 0.5740\n",
      "Epoch 4/200\n",
      "500/500 [==============================] - 0s 80us/step - loss: 0.6943 - accuracy: 0.4880\n",
      "Epoch 5/200\n",
      "500/500 [==============================] - 0s 78us/step - loss: 0.6940 - accuracy: 0.3820\n",
      "Epoch 6/200\n",
      "500/500 [==============================] - 0s 80us/step - loss: 0.6952 - accuracy: 0.5420\n",
      "Epoch 7/200\n",
      "500/500 [==============================] - 0s 90us/step - loss: 0.6926 - accuracy: 0.5400\n",
      "Epoch 8/200\n",
      "500/500 [==============================] - 0s 86us/step - loss: 0.6918 - accuracy: 0.5320\n",
      "Epoch 9/200\n",
      "500/500 [==============================] - 0s 88us/step - loss: 0.6916 - accuracy: 0.4740\n",
      "Epoch 10/200\n",
      "500/500 [==============================] - 0s 77us/step - loss: 0.6901 - accuracy: 0.4340\n",
      "Epoch 11/200\n",
      "500/500 [==============================] - 0s 80us/step - loss: 0.6893 - accuracy: 0.5640\n",
      "Epoch 12/200\n",
      "500/500 [==============================] - 0s 82us/step - loss: 0.6869 - accuracy: 0.6460\n",
      "Epoch 13/200\n",
      "500/500 [==============================] - 0s 76us/step - loss: 0.6850 - accuracy: 0.4900\n",
      "Epoch 14/200\n",
      "500/500 [==============================] - 0s 104us/step - loss: 0.6828 - accuracy: 0.5940\n",
      "Epoch 15/200\n",
      "500/500 [==============================] - 0s 82us/step - loss: 0.6779 - accuracy: 0.7100\n",
      "Epoch 16/200\n",
      "500/500 [==============================] - 0s 84us/step - loss: 0.6734 - accuracy: 0.7700\n",
      "Epoch 17/200\n",
      "500/500 [==============================] - 0s 80us/step - loss: 0.6667 - accuracy: 0.7600\n",
      "Epoch 18/200\n",
      "500/500 [==============================] - 0s 84us/step - loss: 0.6579 - accuracy: 0.8540\n",
      "Epoch 19/200\n",
      "500/500 [==============================] - 0s 88us/step - loss: 0.6482 - accuracy: 0.7780\n",
      "Epoch 20/200\n",
      "500/500 [==============================] - 0s 82us/step - loss: 0.6371 - accuracy: 0.8560\n",
      "Epoch 21/200\n",
      "500/500 [==============================] - 0s 84us/step - loss: 0.6239 - accuracy: 0.8760\n",
      "Epoch 22/200\n",
      "500/500 [==============================] - 0s 93us/step - loss: 0.6105 - accuracy: 0.8360\n",
      "Epoch 23/200\n",
      "500/500 [==============================] - 0s 90us/step - loss: 0.5939 - accuracy: 0.8260\n",
      "Epoch 24/200\n",
      "500/500 [==============================] - 0s 84us/step - loss: 0.5769 - accuracy: 0.8560\n",
      "Epoch 25/200\n",
      "500/500 [==============================] - 0s 82us/step - loss: 0.5594 - accuracy: 0.8580\n",
      "Epoch 26/200\n",
      "500/500 [==============================] - 0s 80us/step - loss: 0.5402 - accuracy: 0.8640\n",
      "Epoch 27/200\n",
      "500/500 [==============================] - 0s 94us/step - loss: 0.5201 - accuracy: 0.8740\n",
      "Epoch 28/200\n",
      "500/500 [==============================] - 0s 82us/step - loss: 0.4981 - accuracy: 0.8820\n",
      "Epoch 29/200\n",
      "500/500 [==============================] - 0s 79us/step - loss: 0.4753 - accuracy: 0.8820\n",
      "Epoch 30/200\n",
      "500/500 [==============================] - 0s 90us/step - loss: 0.4522 - accuracy: 0.8900\n",
      "Epoch 31/200\n",
      "500/500 [==============================] - 0s 88us/step - loss: 0.4285 - accuracy: 0.9080\n",
      "Epoch 32/200\n",
      "500/500 [==============================] - 0s 90us/step - loss: 0.4064 - accuracy: 0.9320\n",
      "Epoch 33/200\n",
      "500/500 [==============================] - 0s 82us/step - loss: 0.3855 - accuracy: 0.9220\n",
      "Epoch 34/200\n",
      "500/500 [==============================] - 0s 87us/step - loss: 0.3638 - accuracy: 0.9760\n",
      "Epoch 35/200\n",
      "500/500 [==============================] - 0s 84us/step - loss: 0.3435 - accuracy: 0.9800\n",
      "Epoch 36/200\n",
      "500/500 [==============================] - 0s 96us/step - loss: 0.3244 - accuracy: 0.9880\n",
      "Epoch 37/200\n",
      "500/500 [==============================] - 0s 118us/step - loss: 0.3063 - accuracy: 0.9900\n",
      "Epoch 38/200\n",
      "500/500 [==============================] - 0s 90us/step - loss: 0.2896 - accuracy: 0.9920\n",
      "Epoch 39/200\n",
      "500/500 [==============================] - 0s 82us/step - loss: 0.2740 - accuracy: 0.9940\n",
      "Epoch 40/200\n",
      "500/500 [==============================] - 0s 89us/step - loss: 0.2601 - accuracy: 0.9940\n",
      "Epoch 41/200\n",
      "500/500 [==============================] - 0s 84us/step - loss: 0.2459 - accuracy: 0.9980\n",
      "Epoch 42/200\n",
      "500/500 [==============================] - 0s 86us/step - loss: 0.2331 - accuracy: 0.9980\n",
      "Epoch 43/200\n",
      "500/500 [==============================] - 0s 78us/step - loss: 0.2213 - accuracy: 0.9980\n",
      "Epoch 44/200\n",
      "500/500 [==============================] - 0s 91us/step - loss: 0.2102 - accuracy: 0.9980\n",
      "Epoch 45/200\n",
      "500/500 [==============================] - 0s 92us/step - loss: 0.2003 - accuracy: 0.9980\n",
      "Epoch 46/200\n",
      "500/500 [==============================] - 0s 92us/step - loss: 0.1907 - accuracy: 0.9980\n",
      "Epoch 47/200\n",
      "500/500 [==============================] - 0s 82us/step - loss: 0.1821 - accuracy: 0.9980\n",
      "Epoch 48/200\n",
      "500/500 [==============================] - 0s 84us/step - loss: 0.1737 - accuracy: 0.9980\n",
      "Epoch 49/200\n",
      "500/500 [==============================] - 0s 84us/step - loss: 0.1662 - accuracy: 0.9980\n",
      "Epoch 50/200\n",
      "500/500 [==============================] - 0s 90us/step - loss: 0.1590 - accuracy: 0.9980\n",
      "Epoch 51/200\n",
      "500/500 [==============================] - 0s 84us/step - loss: 0.1523 - accuracy: 0.9980\n",
      "Epoch 52/200\n",
      "500/500 [==============================] - 0s 82us/step - loss: 0.1461 - accuracy: 0.9980\n",
      "Epoch 53/200\n",
      "500/500 [==============================] - 0s 84us/step - loss: 0.1402 - accuracy: 0.9980\n",
      "Epoch 54/200\n",
      "500/500 [==============================] - 0s 86us/step - loss: 0.1347 - accuracy: 0.9980\n",
      "Epoch 55/200\n",
      "500/500 [==============================] - 0s 92us/step - loss: 0.1296 - accuracy: 0.9980\n",
      "Epoch 56/200\n",
      "500/500 [==============================] - 0s 90us/step - loss: 0.1246 - accuracy: 0.9980\n",
      "Epoch 57/200\n",
      "500/500 [==============================] - 0s 84us/step - loss: 0.1200 - accuracy: 0.9980\n",
      "Epoch 58/200\n",
      "500/500 [==============================] - 0s 88us/step - loss: 0.1156 - accuracy: 0.9980\n",
      "Epoch 59/200\n",
      "500/500 [==============================] - 0s 94us/step - loss: 0.1115 - accuracy: 0.9980\n",
      "Epoch 60/200\n",
      "500/500 [==============================] - 0s 80us/step - loss: 0.1076 - accuracy: 0.9980\n",
      "Epoch 61/200\n",
      "500/500 [==============================] - 0s 94us/step - loss: 0.1040 - accuracy: 0.9980\n",
      "Epoch 62/200\n",
      "500/500 [==============================] - 0s 86us/step - loss: 0.1004 - accuracy: 0.9980\n",
      "Epoch 63/200\n",
      "500/500 [==============================] - 0s 108us/step - loss: 0.0971 - accuracy: 0.9980\n",
      "Epoch 64/200\n",
      "500/500 [==============================] - 0s 103us/step - loss: 0.0939 - accuracy: 0.9980\n",
      "Epoch 65/200\n",
      "500/500 [==============================] - 0s 102us/step - loss: 0.0908 - accuracy: 0.9980\n",
      "Epoch 66/200\n",
      "500/500 [==============================] - 0s 84us/step - loss: 0.0881 - accuracy: 0.9980\n",
      "Epoch 67/200\n",
      "500/500 [==============================] - 0s 90us/step - loss: 0.0851 - accuracy: 0.9980\n",
      "Epoch 68/200\n",
      "500/500 [==============================] - 0s 92us/step - loss: 0.0826 - accuracy: 0.9980\n",
      "Epoch 69/200\n",
      "500/500 [==============================] - 0s 88us/step - loss: 0.0801 - accuracy: 0.9980\n",
      "Epoch 70/200\n",
      "500/500 [==============================] - 0s 82us/step - loss: 0.0777 - accuracy: 0.9980\n",
      "Epoch 71/200\n",
      "500/500 [==============================] - 0s 90us/step - loss: 0.0754 - accuracy: 0.9980\n",
      "Epoch 72/200\n",
      "500/500 [==============================] - 0s 84us/step - loss: 0.0732 - accuracy: 0.9980\n",
      "Epoch 73/200\n",
      "500/500 [==============================] - 0s 84us/step - loss: 0.0711 - accuracy: 0.9980\n",
      "Epoch 74/200\n",
      "500/500 [==============================] - 0s 88us/step - loss: 0.0691 - accuracy: 0.9980\n",
      "Epoch 75/200\n",
      "500/500 [==============================] - 0s 82us/step - loss: 0.0671 - accuracy: 0.9980\n",
      "Epoch 76/200\n",
      "500/500 [==============================] - 0s 88us/step - loss: 0.0653 - accuracy: 0.9980\n",
      "Epoch 77/200\n",
      "500/500 [==============================] - 0s 86us/step - loss: 0.0635 - accuracy: 0.9980\n",
      "Epoch 78/200\n",
      "500/500 [==============================] - 0s 86us/step - loss: 0.0618 - accuracy: 0.9980\n",
      "Epoch 79/200\n",
      "500/500 [==============================] - 0s 96us/step - loss: 0.0601 - accuracy: 0.9980\n",
      "Epoch 80/200\n",
      "500/500 [==============================] - 0s 84us/step - loss: 0.0586 - accuracy: 0.9980\n",
      "Epoch 81/200\n",
      "500/500 [==============================] - 0s 84us/step - loss: 0.0571 - accuracy: 0.9980\n",
      "Epoch 82/200\n",
      "500/500 [==============================] - 0s 86us/step - loss: 0.0556 - accuracy: 0.9980\n",
      "Epoch 83/200\n",
      "500/500 [==============================] - 0s 84us/step - loss: 0.0541 - accuracy: 0.9980\n",
      "Epoch 84/200\n",
      "500/500 [==============================] - 0s 94us/step - loss: 0.0528 - accuracy: 0.9980\n",
      "Epoch 85/200\n",
      "500/500 [==============================] - 0s 92us/step - loss: 0.0515 - accuracy: 0.9980\n",
      "Epoch 86/200\n",
      "500/500 [==============================] - 0s 88us/step - loss: 0.0502 - accuracy: 0.9980\n",
      "Epoch 87/200\n",
      "500/500 [==============================] - 0s 92us/step - loss: 0.0490 - accuracy: 0.9980\n",
      "Epoch 88/200\n",
      "500/500 [==============================] - 0s 100us/step - loss: 0.0478 - accuracy: 0.9980\n",
      "Epoch 89/200\n",
      "500/500 [==============================] - 0s 90us/step - loss: 0.0467 - accuracy: 0.9980\n",
      "Epoch 90/200\n",
      "500/500 [==============================] - 0s 92us/step - loss: 0.0456 - accuracy: 0.9980\n",
      "Epoch 91/200\n",
      "500/500 [==============================] - 0s 92us/step - loss: 0.0444 - accuracy: 0.9980\n",
      "Epoch 92/200\n",
      "500/500 [==============================] - 0s 96us/step - loss: 0.0434 - accuracy: 0.9980\n",
      "Epoch 93/200\n",
      "500/500 [==============================] - 0s 104us/step - loss: 0.0424 - accuracy: 0.9980\n",
      "Epoch 94/200\n",
      "500/500 [==============================] - 0s 84us/step - loss: 0.0415 - accuracy: 0.9980\n",
      "Epoch 95/200\n",
      "500/500 [==============================] - 0s 90us/step - loss: 0.0406 - accuracy: 1.0000\n",
      "Epoch 96/200\n",
      "500/500 [==============================] - 0s 88us/step - loss: 0.0396 - accuracy: 0.9980\n",
      "Epoch 97/200\n",
      "500/500 [==============================] - 0s 100us/step - loss: 0.0388 - accuracy: 0.9980\n",
      "Epoch 98/200\n",
      "500/500 [==============================] - 0s 98us/step - loss: 0.0379 - accuracy: 0.9980\n",
      "Epoch 99/200\n",
      "500/500 [==============================] - 0s 90us/step - loss: 0.0372 - accuracy: 0.9980\n",
      "Epoch 100/200\n",
      "500/500 [==============================] - 0s 86us/step - loss: 0.0363 - accuracy: 1.0000\n",
      "Epoch 101/200\n",
      "500/500 [==============================] - 0s 108us/step - loss: 0.0355 - accuracy: 0.9980\n",
      "Epoch 102/200\n",
      "500/500 [==============================] - 0s 90us/step - loss: 0.0348 - accuracy: 0.9980\n",
      "Epoch 103/200\n",
      "500/500 [==============================] - 0s 86us/step - loss: 0.0341 - accuracy: 0.9980\n",
      "Epoch 104/200\n",
      "500/500 [==============================] - 0s 86us/step - loss: 0.0334 - accuracy: 0.9980\n",
      "Epoch 105/200\n",
      "500/500 [==============================] - 0s 84us/step - loss: 0.0328 - accuracy: 1.0000\n",
      "Epoch 106/200\n",
      "500/500 [==============================] - 0s 92us/step - loss: 0.0321 - accuracy: 0.9980\n",
      "Epoch 107/200\n",
      "500/500 [==============================] - 0s 88us/step - loss: 0.0314 - accuracy: 0.9980\n",
      "Epoch 108/200\n",
      "500/500 [==============================] - 0s 86us/step - loss: 0.0308 - accuracy: 0.9980\n",
      "Epoch 109/200\n",
      "500/500 [==============================] - 0s 90us/step - loss: 0.0302 - accuracy: 1.0000\n",
      "Epoch 110/200\n",
      "500/500 [==============================] - 0s 96us/step - loss: 0.0296 - accuracy: 0.9980\n",
      "Epoch 111/200\n",
      "500/500 [==============================] - 0s 80us/step - loss: 0.0290 - accuracy: 0.9980\n",
      "Epoch 112/200\n",
      "500/500 [==============================] - 0s 98us/step - loss: 0.0285 - accuracy: 1.0000\n",
      "Epoch 113/200\n",
      "500/500 [==============================] - 0s 90us/step - loss: 0.0280 - accuracy: 0.9980\n",
      "Epoch 114/200\n",
      "500/500 [==============================] - 0s 84us/step - loss: 0.0274 - accuracy: 0.9980\n",
      "Epoch 115/200\n",
      "500/500 [==============================] - 0s 94us/step - loss: 0.0269 - accuracy: 0.9980\n",
      "Epoch 116/200\n",
      "500/500 [==============================] - 0s 96us/step - loss: 0.0264 - accuracy: 1.0000\n",
      "Epoch 117/200\n",
      "500/500 [==============================] - 0s 104us/step - loss: 0.0259 - accuracy: 1.0000\n",
      "Epoch 118/200\n",
      "500/500 [==============================] - 0s 90us/step - loss: 0.0254 - accuracy: 1.0000\n",
      "Epoch 119/200\n",
      "500/500 [==============================] - 0s 96us/step - loss: 0.0249 - accuracy: 1.0000\n",
      "Epoch 120/200\n",
      "500/500 [==============================] - 0s 94us/step - loss: 0.0245 - accuracy: 1.0000\n",
      "Epoch 121/200\n",
      "500/500 [==============================] - 0s 99us/step - loss: 0.0241 - accuracy: 1.0000\n",
      "Epoch 122/200\n",
      "500/500 [==============================] - 0s 94us/step - loss: 0.0236 - accuracy: 1.0000\n",
      "Epoch 123/200\n",
      "500/500 [==============================] - 0s 92us/step - loss: 0.0232 - accuracy: 0.9980\n",
      "Epoch 124/200\n",
      "500/500 [==============================] - 0s 100us/step - loss: 0.0229 - accuracy: 0.9980\n",
      "Epoch 125/200\n",
      "500/500 [==============================] - 0s 92us/step - loss: 0.0225 - accuracy: 1.0000\n",
      "Epoch 126/200\n",
      "500/500 [==============================] - 0s 90us/step - loss: 0.0221 - accuracy: 1.0000\n",
      "Epoch 127/200\n",
      "500/500 [==============================] - 0s 94us/step - loss: 0.0217 - accuracy: 1.0000\n",
      "Epoch 128/200\n",
      "500/500 [==============================] - 0s 90us/step - loss: 0.0213 - accuracy: 1.0000\n",
      "Epoch 129/200\n",
      "500/500 [==============================] - 0s 88us/step - loss: 0.0210 - accuracy: 0.9980\n",
      "Epoch 130/200\n",
      "500/500 [==============================] - 0s 92us/step - loss: 0.0207 - accuracy: 1.0000\n",
      "Epoch 131/200\n",
      "500/500 [==============================] - 0s 90us/step - loss: 0.0203 - accuracy: 1.0000\n",
      "Epoch 132/200\n",
      "500/500 [==============================] - 0s 90us/step - loss: 0.0201 - accuracy: 1.0000\n",
      "Epoch 133/200\n",
      "500/500 [==============================] - 0s 102us/step - loss: 0.0196 - accuracy: 1.0000\n",
      "Epoch 134/200\n",
      "500/500 [==============================] - 0s 82us/step - loss: 0.0193 - accuracy: 1.0000\n",
      "Epoch 135/200\n",
      "500/500 [==============================] - 0s 84us/step - loss: 0.0190 - accuracy: 1.0000\n",
      "Epoch 136/200\n",
      "500/500 [==============================] - 0s 96us/step - loss: 0.0187 - accuracy: 1.0000\n",
      "Epoch 137/200\n",
      "500/500 [==============================] - 0s 84us/step - loss: 0.0184 - accuracy: 1.0000\n",
      "Epoch 138/200\n",
      "500/500 [==============================] - 0s 98us/step - loss: 0.0181 - accuracy: 1.0000\n",
      "Epoch 139/200\n",
      "500/500 [==============================] - 0s 92us/step - loss: 0.0178 - accuracy: 1.0000\n",
      "Epoch 140/200\n",
      "500/500 [==============================] - 0s 82us/step - loss: 0.0176 - accuracy: 1.0000\n",
      "Epoch 141/200\n",
      "500/500 [==============================] - 0s 92us/step - loss: 0.0173 - accuracy: 1.0000\n",
      "Epoch 142/200\n",
      "500/500 [==============================] - 0s 92us/step - loss: 0.0170 - accuracy: 1.0000\n",
      "Epoch 143/200\n",
      "500/500 [==============================] - 0s 86us/step - loss: 0.0168 - accuracy: 1.0000\n",
      "Epoch 144/200\n",
      "500/500 [==============================] - 0s 94us/step - loss: 0.0166 - accuracy: 1.0000\n",
      "Epoch 145/200\n",
      "500/500 [==============================] - 0s 86us/step - loss: 0.0164 - accuracy: 1.0000\n",
      "Epoch 146/200\n",
      "500/500 [==============================] - 0s 88us/step - loss: 0.0161 - accuracy: 1.0000\n",
      "Epoch 147/200\n",
      "500/500 [==============================] - 0s 96us/step - loss: 0.0158 - accuracy: 1.0000\n",
      "Epoch 148/200\n",
      "500/500 [==============================] - 0s 94us/step - loss: 0.0156 - accuracy: 1.0000\n",
      "Epoch 149/200\n",
      "500/500 [==============================] - 0s 96us/step - loss: 0.0153 - accuracy: 1.0000\n",
      "Epoch 150/200\n",
      "500/500 [==============================] - 0s 92us/step - loss: 0.0151 - accuracy: 1.0000\n",
      "Epoch 151/200\n",
      "500/500 [==============================] - 0s 86us/step - loss: 0.0149 - accuracy: 1.0000\n",
      "Epoch 152/200\n",
      "500/500 [==============================] - 0s 90us/step - loss: 0.0147 - accuracy: 1.0000\n",
      "Epoch 153/200\n",
      "500/500 [==============================] - 0s 92us/step - loss: 0.0145 - accuracy: 1.0000\n",
      "Epoch 154/200\n",
      "500/500 [==============================] - 0s 90us/step - loss: 0.0143 - accuracy: 1.0000\n",
      "Epoch 155/200\n",
      "500/500 [==============================] - 0s 94us/step - loss: 0.0140 - accuracy: 1.0000\n",
      "Epoch 156/200\n",
      "500/500 [==============================] - 0s 88us/step - loss: 0.0139 - accuracy: 1.0000\n",
      "Epoch 157/200\n",
      "500/500 [==============================] - 0s 98us/step - loss: 0.0137 - accuracy: 1.0000\n",
      "Epoch 158/200\n",
      "500/500 [==============================] - 0s 84us/step - loss: 0.0135 - accuracy: 1.0000\n",
      "Epoch 159/200\n",
      "500/500 [==============================] - 0s 86us/step - loss: 0.0133 - accuracy: 1.0000\n",
      "Epoch 160/200\n",
      "500/500 [==============================] - 0s 100us/step - loss: 0.0131 - accuracy: 1.0000\n",
      "Epoch 161/200\n",
      "500/500 [==============================] - 0s 94us/step - loss: 0.0129 - accuracy: 1.0000\n",
      "Epoch 162/200\n",
      "500/500 [==============================] - 0s 90us/step - loss: 0.0127 - accuracy: 1.0000\n",
      "Epoch 163/200\n",
      "500/500 [==============================] - 0s 90us/step - loss: 0.0126 - accuracy: 1.0000\n",
      "Epoch 164/200\n",
      "500/500 [==============================] - 0s 92us/step - loss: 0.0124 - accuracy: 1.0000\n",
      "Epoch 165/200\n",
      "500/500 [==============================] - 0s 92us/step - loss: 0.0123 - accuracy: 1.0000\n",
      "Epoch 166/200\n",
      "500/500 [==============================] - 0s 88us/step - loss: 0.0121 - accuracy: 1.0000\n",
      "Epoch 167/200\n",
      "500/500 [==============================] - 0s 86us/step - loss: 0.0120 - accuracy: 1.0000\n",
      "Epoch 168/200\n",
      "500/500 [==============================] - 0s 96us/step - loss: 0.0118 - accuracy: 1.0000\n",
      "Epoch 169/200\n",
      "500/500 [==============================] - 0s 102us/step - loss: 0.0116 - accuracy: 1.0000\n",
      "Epoch 170/200\n",
      "500/500 [==============================] - 0s 86us/step - loss: 0.0115 - accuracy: 1.0000\n",
      "Epoch 171/200\n",
      "500/500 [==============================] - 0s 92us/step - loss: 0.0114 - accuracy: 1.0000\n",
      "Epoch 172/200\n",
      "500/500 [==============================] - 0s 82us/step - loss: 0.0112 - accuracy: 1.0000\n",
      "Epoch 173/200\n",
      "500/500 [==============================] - 0s 92us/step - loss: 0.0111 - accuracy: 1.0000\n",
      "Epoch 174/200\n",
      "500/500 [==============================] - 0s 94us/step - loss: 0.0109 - accuracy: 1.0000\n",
      "Epoch 175/200\n",
      "500/500 [==============================] - 0s 96us/step - loss: 0.0108 - accuracy: 1.0000\n",
      "Epoch 176/200\n",
      "500/500 [==============================] - 0s 98us/step - loss: 0.0106 - accuracy: 1.0000\n",
      "Epoch 177/200\n",
      "500/500 [==============================] - 0s 98us/step - loss: 0.0105 - accuracy: 1.0000\n",
      "Epoch 178/200\n",
      "500/500 [==============================] - 0s 104us/step - loss: 0.0103 - accuracy: 1.0000\n",
      "Epoch 179/200\n",
      "500/500 [==============================] - 0s 118us/step - loss: 0.0103 - accuracy: 1.0000\n",
      "Epoch 180/200\n",
      "500/500 [==============================] - 0s 108us/step - loss: 0.0101 - accuracy: 1.0000\n",
      "Epoch 181/200\n",
      "500/500 [==============================] - 0s 96us/step - loss: 0.0100 - accuracy: 1.0000\n",
      "Epoch 182/200\n",
      "500/500 [==============================] - 0s 100us/step - loss: 0.0098 - accuracy: 1.0000\n",
      "Epoch 183/200\n",
      "500/500 [==============================] - 0s 92us/step - loss: 0.0099 - accuracy: 1.0000\n",
      "Epoch 184/200\n",
      "500/500 [==============================] - 0s 90us/step - loss: 0.0096 - accuracy: 1.0000\n",
      "Epoch 185/200\n",
      "500/500 [==============================] - 0s 88us/step - loss: 0.0095 - accuracy: 1.0000\n",
      "Epoch 186/200\n",
      "500/500 [==============================] - 0s 92us/step - loss: 0.0095 - accuracy: 1.0000\n",
      "Epoch 187/200\n",
      "500/500 [==============================] - 0s 94us/step - loss: 0.0094 - accuracy: 1.0000\n",
      "Epoch 188/200\n",
      "500/500 [==============================] - 0s 90us/step - loss: 0.0092 - accuracy: 1.0000\n",
      "Epoch 189/200\n",
      "500/500 [==============================] - 0s 82us/step - loss: 0.0091 - accuracy: 1.0000\n",
      "Epoch 190/200\n",
      "500/500 [==============================] - 0s 136us/step - loss: 0.0090 - accuracy: 1.0000\n",
      "Epoch 191/200\n",
      "500/500 [==============================] - 0s 96us/step - loss: 0.0090 - accuracy: 1.0000\n",
      "Epoch 192/200\n",
      "500/500 [==============================] - 0s 108us/step - loss: 0.0087 - accuracy: 1.0000\n",
      "Epoch 193/200\n",
      "500/500 [==============================] - 0s 104us/step - loss: 0.0087 - accuracy: 1.0000\n",
      "Epoch 194/200\n",
      "500/500 [==============================] - 0s 98us/step - loss: 0.0085 - accuracy: 1.0000\n",
      "Epoch 195/200\n",
      "500/500 [==============================] - 0s 94us/step - loss: 0.0084 - accuracy: 1.0000\n",
      "Epoch 196/200\n",
      "500/500 [==============================] - 0s 94us/step - loss: 0.0084 - accuracy: 1.0000\n",
      "Epoch 197/200\n",
      "500/500 [==============================] - 0s 84us/step - loss: 0.0083 - accuracy: 1.0000\n",
      "Epoch 198/200\n",
      "500/500 [==============================] - 0s 100us/step - loss: 0.0082 - accuracy: 1.0000\n",
      "Epoch 199/200\n",
      "500/500 [==============================] - 0s 86us/step - loss: 0.0081 - accuracy: 1.0000\n",
      "Epoch 200/200\n",
      "500/500 [==============================] - 0s 102us/step - loss: 0.0080 - accuracy: 1.0000\n"
     ]
    }
   ],
   "source": [
    "h = model.fit(x=X, y=y, verbose = 1, batch_size = 20, epochs=200, shuffle ='true')"
   ]
  },
  {
   "cell_type": "code",
   "execution_count": 7,
   "metadata": {},
   "outputs": [
    {
     "data": {
      "text/plain": [
       "Text(0.5, 1.0, 'accuracy')"
      ]
     },
     "execution_count": 7,
     "metadata": {},
     "output_type": "execute_result"
    },
    {
     "data": {
      "image/png": "[encoded data removed]",
      "text/plain": [
       "<Figure size 432x288 with 1 Axes>"
      ]
     },
     "metadata": {
      "needs_background": "light"
     },
     "output_type": "display_data"
    }
   ],
   "source": [
    "plt.plot(h.history['accuracy'])\n",
    "plt.xlabel('epoch')\n",
    "plt.legend(['accuracy'])\n",
    "plt.title('accuracy')\n"
   ]
  },
  {
   "cell_type": "code",
   "execution_count": 8,
   "metadata": {},
   "outputs": [
    {
     "data": {
      "text/plain": [
       "Text(0.5, 0, 'epoch')"
      ]
     },
     "execution_count": 8,
     "metadata": {},
     "output_type": "execute_result"
    },
    {
     "data": {
      "image/png": "[encoded data removed]",
      "text/plain": [
       "<Figure size 432x288 with 1 Axes>"
      ]
     },
     "metadata": {
      "needs_background": "light"
     },
     "output_type": "display_data"
    }
   ],
   "source": [
    "plt.plot(h.history['loss'])\n",
    "plt.legend(['loss'])\n",
    "plt.title('loss')\n",
    "plt.xlabel('epoch')"
   ]
  },
  {
   "cell_type": "code",
   "execution_count": 9,
   "metadata": {},
   "outputs": [],
   "source": [
    "def plot_decision_boundary(X, y, model):\n",
    "    x_span = np.linspace(min(X[:,0]) - 0.25, max(X[:,0]) + 0.25, 50)\n",
    "    y_span = np.linspace(min(X[:,1]) - 0.25, max(X[:,1]) + 0.25 , 50)\n",
    "    xx, yy = np.meshgrid(x_span, y_span)\n",
    "    grid = np.c_[xx.ravel(), yy.ravel()]\n",
    "    pred_func = model.predict(grid)\n",
    "    z = pred_func.reshape(xx.shape)\n",
    "    plt.contourf(xx, yy, z)"
   ]
  },
  {
   "cell_type": "code",
   "execution_count": 10,
   "metadata": {},
   "outputs": [
    {
     "data": {
      "text/plain": [
       "<matplotlib.collections.PathCollection at 0x209c9749e08>"
      ]
     },
     "execution_count": 10,
     "metadata": {},
     "output_type": "execute_result"
    },
    {
     "data": {
      "image/png": "[encoded data removed]",
      "text/plain": [
       "<Figure size 432x288 with 1 Axes>"
      ]
     },
     "metadata": {
      "needs_background": "light"
     },
     "output_type": "display_data"
    }
   ],
   "source": [
    "plot_decision_boundary(X, y, model)\n",
    "plt.scatter(X[y==0, 0], X[y==0, 1])\n",
    "plt.scatter(X[y==1, 0], X[y==1, 1])\n"
   ]
  },
  {
   "cell_type": "code",
   "execution_count": 11,
   "metadata": {},
   "outputs": [
    {
     "name": "stdout",
     "output_type": "stream",
     "text": [
      "Prediction is:  [[0.40565538]]\n"
     ]
    },
    {
     "data": {
      "image/png": "[encoded data removed]",
      "text/plain": [
       "<Figure size 432x288 with 1 Axes>"
      ]
     },
     "metadata": {
      "needs_background": "light"
     },
     "output_type": "display_data"
    }
   ],
   "source": [
    "plot_decision_boundary(X, y, model)\n",
    "plt.scatter(X[y==0, 0], X[y==0, 1])\n",
    "plt.scatter(X[y==1, 0], X[y==1, 1])\n",
    "\n",
    "x = 0\n",
    "y = 0.75\n",
    "\n",
    "point = np.array([[x, y]])\n",
    "predict = model.predict(point)\n",
    "plt.plot([x], [y], marker='o', markersize=10, color=\"red\")\n",
    "print(\"Prediction is: \", predict)"
   ]
  },
  {
   "cell_type": "code",
   "execution_count": null,
   "metadata": {},
   "outputs": [],
   "source": []
  }
 ],
 "metadata": {
  "kernelspec": {
   "display_name": "Python 3",
   "language": "python",
   "name": "python3"
  },
  "language_info": {
   "codemirror_mode": {
    "name": "ipython",
    "version": 3
   },
   "file_extension": ".py",
   "mimetype": "text/x-python",
   "name": "python",
   "nbconvert_exporter": "python",
   "pygments_lexer": "ipython3",
   "version": "3.7.4"
  }
 },
 "nbformat": 4,
 "nbformat_minor": 4
}
